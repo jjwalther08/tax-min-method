{
 "cells": [
  {
   "cell_type": "markdown",
   "id": "generous-entrance",
   "metadata": {},
   "source": [
    "# Tax-Min-Method"
   ]
  },
  {
   "cell_type": "code",
   "execution_count": 1,
   "id": "minus-wilson",
   "metadata": {},
   "outputs": [],
   "source": [
    "#pip install pandas-datareader"
   ]
  },
  {
   "cell_type": "code",
   "execution_count": 2,
   "id": "fatal-batch",
   "metadata": {},
   "outputs": [],
   "source": [
    "#Import required libraries\n",
    "import pandas as pd\n",
    "import numpy as np\n",
    "from datetime import date\n",
    "import decimal\n",
    "#from pandas_datareader import data as pdr\n",
    "from datetime import datetime"
   ]
  },
  {
   "cell_type": "code",
   "execution_count": 3,
   "id": "falling-change",
   "metadata": {},
   "outputs": [],
   "source": [
    "import os\n",
    "working_directory = os.getcwd()"
   ]
  },
  {
   "cell_type": "markdown",
   "id": "behind-charger",
   "metadata": {},
   "source": [
    "## Import CSV file and convert \"Date Acquired\" column to datetime "
   ]
  },
  {
   "cell_type": "code",
   "execution_count": 4,
   "id": "abroad-suspect",
   "metadata": {},
   "outputs": [
    {
     "data": {
      "text/html": [
       "<div>\n",
       "<style scoped>\n",
       "    .dataframe tbody tr th:only-of-type {\n",
       "        vertical-align: middle;\n",
       "    }\n",
       "\n",
       "    .dataframe tbody tr th {\n",
       "        vertical-align: top;\n",
       "    }\n",
       "\n",
       "    .dataframe thead th {\n",
       "        text-align: right;\n",
       "    }\n",
       "</style>\n",
       "<table border=\"1\" class=\"dataframe\">\n",
       "  <thead>\n",
       "    <tr style=\"text-align: right;\">\n",
       "      <th></th>\n",
       "      <th>Symbol</th>\n",
       "      <th>Quanity</th>\n",
       "      <th>Last Price</th>\n",
       "      <th>Cost/Share</th>\n",
       "      <th>Total Gain</th>\n",
       "      <th>Date Acquired</th>\n",
       "    </tr>\n",
       "  </thead>\n",
       "  <tbody>\n",
       "    <tr>\n",
       "      <th>0</th>\n",
       "      <td>VXUS</td>\n",
       "      <td>40.0000</td>\n",
       "      <td>65.59</td>\n",
       "      <td>63.6300</td>\n",
       "      <td>78.4000</td>\n",
       "      <td>2021-02-24</td>\n",
       "    </tr>\n",
       "    <tr>\n",
       "      <th>1</th>\n",
       "      <td>VXUS</td>\n",
       "      <td>25.0000</td>\n",
       "      <td>65.59</td>\n",
       "      <td>63.1275</td>\n",
       "      <td>61.5625</td>\n",
       "      <td>2021-03-12</td>\n",
       "    </tr>\n",
       "    <tr>\n",
       "      <th>2</th>\n",
       "      <td>VXUS</td>\n",
       "      <td>0.1637</td>\n",
       "      <td>65.59</td>\n",
       "      <td>61.6282</td>\n",
       "      <td>0.6486</td>\n",
       "      <td>2021-03-25</td>\n",
       "    </tr>\n",
       "    <tr>\n",
       "      <th>3</th>\n",
       "      <td>VXUS</td>\n",
       "      <td>0.5079</td>\n",
       "      <td>65.59</td>\n",
       "      <td>66.0598</td>\n",
       "      <td>-0.2386</td>\n",
       "      <td>2021-06-24</td>\n",
       "    </tr>\n",
       "    <tr>\n",
       "      <th>4</th>\n",
       "      <td>VWO</td>\n",
       "      <td>55.0000</td>\n",
       "      <td>51.64</td>\n",
       "      <td>54.9061</td>\n",
       "      <td>-179.6355</td>\n",
       "      <td>2021-02-22</td>\n",
       "    </tr>\n",
       "  </tbody>\n",
       "</table>\n",
       "</div>"
      ],
      "text/plain": [
       "  Symbol  Quanity  Last Price  Cost/Share  Total Gain Date Acquired\n",
       "0   VXUS  40.0000       65.59     63.6300     78.4000    2021-02-24\n",
       "1   VXUS  25.0000       65.59     63.1275     61.5625    2021-03-12\n",
       "2   VXUS   0.1637       65.59     61.6282      0.6486    2021-03-25\n",
       "3   VXUS   0.5079       65.59     66.0598     -0.2386    2021-06-24\n",
       "4    VWO  55.0000       51.64     54.9061   -179.6355    2021-02-22"
      ]
     },
     "execution_count": 4,
     "metadata": {},
     "output_type": "execute_result"
    }
   ],
   "source": [
    "path = working_directory + '/Min_Tax_Port.csv'\n",
    "d_parser = lambda x: datetime.strptime(x, '%m/%d/%Y')\n",
    "tax_min_port = pd.read_csv(path, parse_dates=[\"Date Acquired\"], date_parser=d_parser)\n",
    "tax_min_port.head()"
   ]
  },
  {
   "cell_type": "markdown",
   "id": "alien-savings",
   "metadata": {},
   "source": [
    "# Create variables that gives us the current date and date one year prior.\n",
    "This logic is to determine the current date and then the date one year prior which would indicate any lots purchased before then (the date one year prior from current date) are definitely long term tax lots.\n",
    "Some brokerage firms platforms will actually allow you to define which tax lots are long or short, however, that is too easy and defining a function or method to determine this will be helpful for any data that does not identify the tax lots beforehand."
   ]
  },
  {
   "cell_type": "code",
   "execution_count": 5,
   "id": "cloudy-shore",
   "metadata": {},
   "outputs": [
    {
     "name": "stdout",
     "output_type": "stream",
     "text": [
      "2021-08-29\n",
      "2020-08-29\n"
     ]
    }
   ],
   "source": [
    "import datetime\n",
    "#date_now = datetime.datetime.now()\n",
    "date_now = datetime.date.today()\n",
    "year_ago = date_now.year - 1\n",
    "\n",
    "current_date = date_now.strftime('%Y-%m-%d')\n",
    "one_year_ago = date_now.replace(year=year_ago).strftime('%Y-%m-%d')\n",
    "\n",
    "print(current_date)\n",
    "print(one_year_ago)"
   ]
  },
  {
   "cell_type": "markdown",
   "id": "nervous-orchestra",
   "metadata": {},
   "source": [
    "## Alternate dataframe filtering method"
   ]
  },
  {
   "cell_type": "code",
   "execution_count": 6,
   "id": "consolidated-bicycle",
   "metadata": {},
   "outputs": [
    {
     "data": {
      "text/html": [
       "<div>\n",
       "<style scoped>\n",
       "    .dataframe tbody tr th:only-of-type {\n",
       "        vertical-align: middle;\n",
       "    }\n",
       "\n",
       "    .dataframe tbody tr th {\n",
       "        vertical-align: top;\n",
       "    }\n",
       "\n",
       "    .dataframe thead th {\n",
       "        text-align: right;\n",
       "    }\n",
       "</style>\n",
       "<table border=\"1\" class=\"dataframe\">\n",
       "  <thead>\n",
       "    <tr style=\"text-align: right;\">\n",
       "      <th></th>\n",
       "      <th>Symbol</th>\n",
       "      <th>Quanity</th>\n",
       "      <th>Last Price</th>\n",
       "      <th>Cost/Share</th>\n",
       "      <th>Total Gain</th>\n",
       "      <th>Date Acquired</th>\n",
       "      <th>lt</th>\n",
       "      <th>st_loss</th>\n",
       "      <th>lt_loss</th>\n",
       "      <th>lt_gain</th>\n",
       "      <th>st_gain</th>\n",
       "    </tr>\n",
       "  </thead>\n",
       "  <tbody>\n",
       "    <tr>\n",
       "      <th>0</th>\n",
       "      <td>VXUS</td>\n",
       "      <td>40.0000</td>\n",
       "      <td>65.59</td>\n",
       "      <td>63.6300</td>\n",
       "      <td>78.4000</td>\n",
       "      <td>2021-02-24</td>\n",
       "      <td>0</td>\n",
       "      <td>0</td>\n",
       "      <td>0</td>\n",
       "      <td>0</td>\n",
       "      <td>1</td>\n",
       "    </tr>\n",
       "    <tr>\n",
       "      <th>1</th>\n",
       "      <td>VXUS</td>\n",
       "      <td>25.0000</td>\n",
       "      <td>65.59</td>\n",
       "      <td>63.1275</td>\n",
       "      <td>61.5625</td>\n",
       "      <td>2021-03-12</td>\n",
       "      <td>0</td>\n",
       "      <td>0</td>\n",
       "      <td>0</td>\n",
       "      <td>0</td>\n",
       "      <td>1</td>\n",
       "    </tr>\n",
       "    <tr>\n",
       "      <th>2</th>\n",
       "      <td>VXUS</td>\n",
       "      <td>0.1637</td>\n",
       "      <td>65.59</td>\n",
       "      <td>61.6282</td>\n",
       "      <td>0.6486</td>\n",
       "      <td>2021-03-25</td>\n",
       "      <td>0</td>\n",
       "      <td>0</td>\n",
       "      <td>0</td>\n",
       "      <td>0</td>\n",
       "      <td>1</td>\n",
       "    </tr>\n",
       "    <tr>\n",
       "      <th>3</th>\n",
       "      <td>VXUS</td>\n",
       "      <td>0.5079</td>\n",
       "      <td>65.59</td>\n",
       "      <td>66.0598</td>\n",
       "      <td>-0.2386</td>\n",
       "      <td>2021-06-24</td>\n",
       "      <td>0</td>\n",
       "      <td>1</td>\n",
       "      <td>0</td>\n",
       "      <td>0</td>\n",
       "      <td>0</td>\n",
       "    </tr>\n",
       "    <tr>\n",
       "      <th>4</th>\n",
       "      <td>VWO</td>\n",
       "      <td>55.0000</td>\n",
       "      <td>51.64</td>\n",
       "      <td>54.9061</td>\n",
       "      <td>-179.6355</td>\n",
       "      <td>2021-02-22</td>\n",
       "      <td>0</td>\n",
       "      <td>1</td>\n",
       "      <td>0</td>\n",
       "      <td>0</td>\n",
       "      <td>0</td>\n",
       "    </tr>\n",
       "  </tbody>\n",
       "</table>\n",
       "</div>"
      ],
      "text/plain": [
       "  Symbol  Quanity  Last Price  Cost/Share  Total Gain Date Acquired  lt  \\\n",
       "0   VXUS  40.0000       65.59     63.6300     78.4000    2021-02-24   0   \n",
       "1   VXUS  25.0000       65.59     63.1275     61.5625    2021-03-12   0   \n",
       "2   VXUS   0.1637       65.59     61.6282      0.6486    2021-03-25   0   \n",
       "3   VXUS   0.5079       65.59     66.0598     -0.2386    2021-06-24   0   \n",
       "4    VWO  55.0000       51.64     54.9061   -179.6355    2021-02-22   0   \n",
       "\n",
       "   st_loss  lt_loss  lt_gain  st_gain  \n",
       "0        0        0        0        1  \n",
       "1        0        0        0        1  \n",
       "2        0        0        0        1  \n",
       "3        1        0        0        0  \n",
       "4        1        0        0        0  "
      ]
     },
     "execution_count": 6,
     "metadata": {},
     "output_type": "execute_result"
    }
   ],
   "source": [
    "#1.) Short-Term losses 2.) Long-Term losses 3.) Long-Term gains 4.) Short-Term gains.\n",
    "tax_min_port['lt'] = np.where(tax_min_port['Date Acquired'] <= one_year_ago,1,0)\n",
    "tax_min_port['st_loss'] = np.where((tax_min_port['Total Gain'] < 0) & (tax_min_port['lt']==0),1,0)\n",
    "tax_min_port['lt_loss'] = np.where((tax_min_port['Total Gain'] < 0) & (tax_min_port['lt']==1),1,0)\n",
    "tax_min_port['lt_gain'] = np.where((tax_min_port['Total Gain'] > 0) & (tax_min_port['lt']==1),1,0)\n",
    "tax_min_port['st_gain'] = np.where((tax_min_port['Total Gain'] > 0) & (tax_min_port['lt']==0),1,0)\n",
    "\n",
    "#confirm no mis-assignments made\n",
    "assert(tax_min_port.loc[tax_min_port['lt']==1,['st_loss','st_gain']].sum().sum()==0)\n",
    "assert(tax_min_port.loc[tax_min_port['lt']==0,['lt_loss','lt_gain']].sum().sum()==0)\n",
    "\n",
    "tax_min_port.head()"
   ]
  },
  {
   "cell_type": "code",
   "execution_count": 7,
   "id": "nervous-timing",
   "metadata": {},
   "outputs": [],
   "source": [
    "# Add a column that displays the \"Total Value\" of each lot\n",
    "tax_min_port[\"Total Value\"] = (tax_min_port[\"Last Price\"] * tax_min_port[\"Quanity\"])"
   ]
  },
  {
   "cell_type": "code",
   "execution_count": 8,
   "id": "pressed-north",
   "metadata": {},
   "outputs": [],
   "source": [
    "pd.set_option('display.max_rows', 110)"
   ]
  },
  {
   "cell_type": "markdown",
   "id": "advance-acrobat",
   "metadata": {},
   "source": [
    "### 1.) Re-organize dataframe in order by categories listed above and display lots in order of biggest loss or lowest gain first:\n",
    "#### st loss: biggest to smallest\n",
    "#### lt loss: biggest to smallest\n",
    "#### lt gain: smallest to biggest\n",
    "#### st gain: smallest to biggest"
   ]
  },
  {
   "cell_type": "code",
   "execution_count": 9,
   "id": "initial-microwave",
   "metadata": {},
   "outputs": [
    {
     "data": {
      "text/html": [
       "<div>\n",
       "<style scoped>\n",
       "    .dataframe tbody tr th:only-of-type {\n",
       "        vertical-align: middle;\n",
       "    }\n",
       "\n",
       "    .dataframe tbody tr th {\n",
       "        vertical-align: top;\n",
       "    }\n",
       "\n",
       "    .dataframe thead th {\n",
       "        text-align: right;\n",
       "    }\n",
       "</style>\n",
       "<table border=\"1\" class=\"dataframe\">\n",
       "  <thead>\n",
       "    <tr style=\"text-align: right;\">\n",
       "      <th></th>\n",
       "      <th>Symbol</th>\n",
       "      <th>Quanity</th>\n",
       "      <th>Last Price</th>\n",
       "      <th>Cost/Share</th>\n",
       "      <th>Total Gain</th>\n",
       "      <th>Date Acquired</th>\n",
       "      <th>lt</th>\n",
       "      <th>st_loss</th>\n",
       "      <th>lt_loss</th>\n",
       "      <th>lt_gain</th>\n",
       "      <th>st_gain</th>\n",
       "      <th>Total Value</th>\n",
       "    </tr>\n",
       "  </thead>\n",
       "  <tbody>\n",
       "    <tr>\n",
       "      <th>31</th>\n",
       "      <td>TDOC</td>\n",
       "      <td>11.0</td>\n",
       "      <td>146.79</td>\n",
       "      <td>199.0000</td>\n",
       "      <td>-574.3100</td>\n",
       "      <td>2021-01-05</td>\n",
       "      <td>0</td>\n",
       "      <td>1</td>\n",
       "      <td>0</td>\n",
       "      <td>0</td>\n",
       "      <td>0</td>\n",
       "      <td>1614.69</td>\n",
       "    </tr>\n",
       "    <tr>\n",
       "      <th>48</th>\n",
       "      <td>PLTR</td>\n",
       "      <td>100.0</td>\n",
       "      <td>22.92</td>\n",
       "      <td>25.9800</td>\n",
       "      <td>-306.0000</td>\n",
       "      <td>2021-01-12</td>\n",
       "      <td>0</td>\n",
       "      <td>1</td>\n",
       "      <td>0</td>\n",
       "      <td>0</td>\n",
       "      <td>0</td>\n",
       "      <td>2292.00</td>\n",
       "    </tr>\n",
       "    <tr>\n",
       "      <th>49</th>\n",
       "      <td>PLTR</td>\n",
       "      <td>100.0</td>\n",
       "      <td>22.92</td>\n",
       "      <td>25.0000</td>\n",
       "      <td>-208.0000</td>\n",
       "      <td>2021-02-25</td>\n",
       "      <td>0</td>\n",
       "      <td>1</td>\n",
       "      <td>0</td>\n",
       "      <td>0</td>\n",
       "      <td>0</td>\n",
       "      <td>2292.00</td>\n",
       "    </tr>\n",
       "    <tr>\n",
       "      <th>4</th>\n",
       "      <td>VWO</td>\n",
       "      <td>55.0</td>\n",
       "      <td>51.64</td>\n",
       "      <td>54.9061</td>\n",
       "      <td>-179.6355</td>\n",
       "      <td>2021-02-22</td>\n",
       "      <td>0</td>\n",
       "      <td>1</td>\n",
       "      <td>0</td>\n",
       "      <td>0</td>\n",
       "      <td>0</td>\n",
       "      <td>2840.20</td>\n",
       "    </tr>\n",
       "    <tr>\n",
       "      <th>50</th>\n",
       "      <td>NIO</td>\n",
       "      <td>25.0</td>\n",
       "      <td>44.22</td>\n",
       "      <td>48.4078</td>\n",
       "      <td>-104.6950</td>\n",
       "      <td>2021-02-23</td>\n",
       "      <td>0</td>\n",
       "      <td>1</td>\n",
       "      <td>0</td>\n",
       "      <td>0</td>\n",
       "      <td>0</td>\n",
       "      <td>1105.50</td>\n",
       "    </tr>\n",
       "  </tbody>\n",
       "</table>\n",
       "</div>"
      ],
      "text/plain": [
       "   Symbol  Quanity  Last Price  Cost/Share  Total Gain Date Acquired  lt  \\\n",
       "31   TDOC     11.0      146.79    199.0000   -574.3100    2021-01-05   0   \n",
       "48   PLTR    100.0       22.92     25.9800   -306.0000    2021-01-12   0   \n",
       "49   PLTR    100.0       22.92     25.0000   -208.0000    2021-02-25   0   \n",
       "4     VWO     55.0       51.64     54.9061   -179.6355    2021-02-22   0   \n",
       "50    NIO     25.0       44.22     48.4078   -104.6950    2021-02-23   0   \n",
       "\n",
       "    st_loss  lt_loss  lt_gain  st_gain  Total Value  \n",
       "31        1        0        0        0      1614.69  \n",
       "48        1        0        0        0      2292.00  \n",
       "49        1        0        0        0      2292.00  \n",
       "4         1        0        0        0      2840.20  \n",
       "50        1        0        0        0      1105.50  "
      ]
     },
     "execution_count": 9,
     "metadata": {},
     "output_type": "execute_result"
    }
   ],
   "source": [
    "tax_min_ordered = tax_min_port.sort_values(by =['st_loss', 'lt_loss', 'lt_gain', 'st_gain', 'Total Gain'], ascending=(False,False,False,False,True))\n",
    "tax_min_ordered.head()"
   ]
  },
  {
   "cell_type": "code",
   "execution_count": 10,
   "id": "rotary-clearing",
   "metadata": {},
   "outputs": [
    {
     "data": {
      "text/html": [
       "<div>\n",
       "<style scoped>\n",
       "    .dataframe tbody tr th:only-of-type {\n",
       "        vertical-align: middle;\n",
       "    }\n",
       "\n",
       "    .dataframe tbody tr th {\n",
       "        vertical-align: top;\n",
       "    }\n",
       "\n",
       "    .dataframe thead th {\n",
       "        text-align: right;\n",
       "    }\n",
       "</style>\n",
       "<table border=\"1\" class=\"dataframe\">\n",
       "  <thead>\n",
       "    <tr style=\"text-align: right;\">\n",
       "      <th></th>\n",
       "      <th>Symbol</th>\n",
       "      <th>Quanity</th>\n",
       "      <th>Last Price</th>\n",
       "      <th>Cost/Share</th>\n",
       "      <th>Total Gain</th>\n",
       "      <th>Date Acquired</th>\n",
       "      <th>lt</th>\n",
       "      <th>st_loss</th>\n",
       "      <th>lt_loss</th>\n",
       "      <th>lt_gain</th>\n",
       "      <th>st_gain</th>\n",
       "      <th>Total Value</th>\n",
       "    </tr>\n",
       "  </thead>\n",
       "  <tbody>\n",
       "    <tr>\n",
       "      <th>31</th>\n",
       "      <td>TDOC</td>\n",
       "      <td>11.0</td>\n",
       "      <td>146.79</td>\n",
       "      <td>199.0000</td>\n",
       "      <td>-574.3100</td>\n",
       "      <td>2021-01-05</td>\n",
       "      <td>0</td>\n",
       "      <td>1</td>\n",
       "      <td>0</td>\n",
       "      <td>0</td>\n",
       "      <td>0</td>\n",
       "      <td>1614.69</td>\n",
       "    </tr>\n",
       "    <tr>\n",
       "      <th>48</th>\n",
       "      <td>PLTR</td>\n",
       "      <td>100.0</td>\n",
       "      <td>22.92</td>\n",
       "      <td>25.9800</td>\n",
       "      <td>-306.0000</td>\n",
       "      <td>2021-01-12</td>\n",
       "      <td>0</td>\n",
       "      <td>1</td>\n",
       "      <td>0</td>\n",
       "      <td>0</td>\n",
       "      <td>0</td>\n",
       "      <td>2292.00</td>\n",
       "    </tr>\n",
       "    <tr>\n",
       "      <th>49</th>\n",
       "      <td>PLTR</td>\n",
       "      <td>100.0</td>\n",
       "      <td>22.92</td>\n",
       "      <td>25.0000</td>\n",
       "      <td>-208.0000</td>\n",
       "      <td>2021-02-25</td>\n",
       "      <td>0</td>\n",
       "      <td>1</td>\n",
       "      <td>0</td>\n",
       "      <td>0</td>\n",
       "      <td>0</td>\n",
       "      <td>2292.00</td>\n",
       "    </tr>\n",
       "    <tr>\n",
       "      <th>4</th>\n",
       "      <td>VWO</td>\n",
       "      <td>55.0</td>\n",
       "      <td>51.64</td>\n",
       "      <td>54.9061</td>\n",
       "      <td>-179.6355</td>\n",
       "      <td>2021-02-22</td>\n",
       "      <td>0</td>\n",
       "      <td>1</td>\n",
       "      <td>0</td>\n",
       "      <td>0</td>\n",
       "      <td>0</td>\n",
       "      <td>2840.20</td>\n",
       "    </tr>\n",
       "    <tr>\n",
       "      <th>50</th>\n",
       "      <td>NIO</td>\n",
       "      <td>25.0</td>\n",
       "      <td>44.22</td>\n",
       "      <td>48.4078</td>\n",
       "      <td>-104.6950</td>\n",
       "      <td>2021-02-23</td>\n",
       "      <td>0</td>\n",
       "      <td>1</td>\n",
       "      <td>0</td>\n",
       "      <td>0</td>\n",
       "      <td>0</td>\n",
       "      <td>1105.50</td>\n",
       "    </tr>\n",
       "  </tbody>\n",
       "</table>\n",
       "</div>"
      ],
      "text/plain": [
       "   Symbol  Quanity  Last Price  Cost/Share  Total Gain Date Acquired  lt  \\\n",
       "31   TDOC     11.0      146.79    199.0000   -574.3100    2021-01-05   0   \n",
       "48   PLTR    100.0       22.92     25.9800   -306.0000    2021-01-12   0   \n",
       "49   PLTR    100.0       22.92     25.0000   -208.0000    2021-02-25   0   \n",
       "4     VWO     55.0       51.64     54.9061   -179.6355    2021-02-22   0   \n",
       "50    NIO     25.0       44.22     48.4078   -104.6950    2021-02-23   0   \n",
       "\n",
       "    st_loss  lt_loss  lt_gain  st_gain  Total Value  \n",
       "31        1        0        0        0      1614.69  \n",
       "48        1        0        0        0      2292.00  \n",
       "49        1        0        0        0      2292.00  \n",
       "4         1        0        0        0      2840.20  \n",
       "50        1        0        0        0      1105.50  "
      ]
     },
     "execution_count": 10,
     "metadata": {},
     "output_type": "execute_result"
    }
   ],
   "source": [
    "# Consider a total withdrawal amount to output a proposal of which lots to sell in order\n",
    "withdrawal_amount = 25000\n",
    "recommended_tax_lots = tax_min_ordered.loc[tax_min_ordered['Total Value'].cumsum().le(withdrawal_amount)]\n",
    "recommended_tax_lots.head()"
   ]
  },
  {
   "cell_type": "code",
   "execution_count": 11,
   "id": "rubber-signal",
   "metadata": {},
   "outputs": [
    {
     "data": {
      "text/plain": [
       "24591.673153000003"
      ]
     },
     "execution_count": 11,
     "metadata": {},
     "output_type": "execute_result"
    }
   ],
   "source": [
    "# Total value of lots being sold (not accounting for partial sale of next lot)\n",
    "current_proceeds = recommended_tax_lots['Total Value'].sum()\n",
    "current_proceeds"
   ]
  },
  {
   "cell_type": "code",
   "execution_count": 12,
   "id": "environmental-buffer",
   "metadata": {},
   "outputs": [
    {
     "data": {
      "text/plain": [
       "-421.8626999999997"
      ]
     },
     "execution_count": 12,
     "metadata": {},
     "output_type": "execute_result"
    }
   ],
   "source": [
    "# Current gain or loss\n",
    "current_gain_or_loss = recommended_tax_lots[\"Total Gain\"].sum()\n",
    "current_gain_or_loss"
   ]
  },
  {
   "cell_type": "code",
   "execution_count": 13,
   "id": "extreme-prediction",
   "metadata": {},
   "outputs": [
    {
     "data": {
      "text/plain": [
       "408.32684699999663"
      ]
     },
     "execution_count": 13,
     "metadata": {},
     "output_type": "execute_result"
    }
   ],
   "source": [
    "# Difference needed to meet withdrawal total\n",
    "proceeds_still_needed = withdrawal_amount - current_proceeds\n",
    "proceeds_still_needed"
   ]
  },
  {
   "cell_type": "markdown",
   "id": "bearing-bankruptcy",
   "metadata": {},
   "source": [
    "### Determine next lot that will require partial sale to reach total withdrawal amount"
   ]
  },
  {
   "cell_type": "code",
   "execution_count": 14,
   "id": "bronze-uruguay",
   "metadata": {},
   "outputs": [],
   "source": [
    "#test = recommended_tax_lots.loc[recommended_tax_lots.sort_values('Total Value',ascending=False,ignore_index=True)['Total Value'].cumsum().le(withdrawal_amount)]"
   ]
  },
  {
   "cell_type": "code",
   "execution_count": 15,
   "id": "sticky-vatican",
   "metadata": {},
   "outputs": [
    {
     "data": {
      "text/html": [
       "<div>\n",
       "<style scoped>\n",
       "    .dataframe tbody tr th:only-of-type {\n",
       "        vertical-align: middle;\n",
       "    }\n",
       "\n",
       "    .dataframe tbody tr th {\n",
       "        vertical-align: top;\n",
       "    }\n",
       "\n",
       "    .dataframe thead th {\n",
       "        text-align: right;\n",
       "    }\n",
       "</style>\n",
       "<table border=\"1\" class=\"dataframe\">\n",
       "  <thead>\n",
       "    <tr style=\"text-align: right;\">\n",
       "      <th></th>\n",
       "      <th>index</th>\n",
       "      <th>Total Value</th>\n",
       "    </tr>\n",
       "  </thead>\n",
       "  <tbody>\n",
       "    <tr>\n",
       "      <th>0</th>\n",
       "      <td>31</td>\n",
       "      <td>1614.69</td>\n",
       "    </tr>\n",
       "    <tr>\n",
       "      <th>1</th>\n",
       "      <td>48</td>\n",
       "      <td>3906.69</td>\n",
       "    </tr>\n",
       "    <tr>\n",
       "      <th>2</th>\n",
       "      <td>49</td>\n",
       "      <td>6198.69</td>\n",
       "    </tr>\n",
       "    <tr>\n",
       "      <th>3</th>\n",
       "      <td>4</td>\n",
       "      <td>9038.89</td>\n",
       "    </tr>\n",
       "    <tr>\n",
       "      <th>4</th>\n",
       "      <td>50</td>\n",
       "      <td>10144.39</td>\n",
       "    </tr>\n",
       "  </tbody>\n",
       "</table>\n",
       "</div>"
      ],
      "text/plain": [
       "   index  Total Value\n",
       "0     31      1614.69\n",
       "1     48      3906.69\n",
       "2     49      6198.69\n",
       "3      4      9038.89\n",
       "4     50     10144.39"
      ]
     },
     "execution_count": 15,
     "metadata": {},
     "output_type": "execute_result"
    }
   ],
   "source": [
    "# Determine cumalitve sum of dataframe in descedning order\n",
    "acumsum = np.cumsum(tax_min_ordered[\"Total Value\"])\n",
    "acumsum.reset_index().head()"
   ]
  },
  {
   "cell_type": "code",
   "execution_count": 16,
   "id": "settled-jones",
   "metadata": {},
   "outputs": [
    {
     "data": {
      "text/plain": [
       "30"
      ]
     },
     "execution_count": 16,
     "metadata": {},
     "output_type": "execute_result"
    }
   ],
   "source": [
    "# Identify index row that does not exceed withdrawal amount\n",
    "np.argmax(acumsum > withdrawal_amount) - 1"
   ]
  },
  {
   "cell_type": "code",
   "execution_count": 17,
   "id": "medium-subdivision",
   "metadata": {},
   "outputs": [
    {
     "data": {
      "text/plain": [
       "Symbol                           VTV\n",
       "Quanity                      23.0000\n",
       "Last Price                  141.1900\n",
       "Cost/Share                  120.6374\n",
       "Total Gain                  472.7100\n",
       "Date Acquired    2020-02-16 00:00:00\n",
       "lt                                 1\n",
       "st_loss                            0\n",
       "lt_loss                            0\n",
       "lt_gain                            1\n",
       "st_gain                            0\n",
       "Total Value                3247.3700\n",
       "Name: 10, dtype: object"
      ]
     },
     "execution_count": 17,
     "metadata": {},
     "output_type": "execute_result"
    }
   ],
   "source": [
    "# Identify next tax lot that requires partial sale to reach total withdrawal amount\n",
    "partial_lot = tax_min_ordered.iloc[31]\n",
    "partial_lot"
   ]
  },
  {
   "cell_type": "code",
   "execution_count": 18,
   "id": "average-casino",
   "metadata": {},
   "outputs": [
    {
     "data": {
      "text/plain": [
       "2.8920380126071015"
      ]
     },
     "execution_count": 18,
     "metadata": {},
     "output_type": "execute_result"
    }
   ],
   "source": [
    "# Number of shares in next lot needed to reach total withdrawal amount\n",
    "partial_quanity = proceeds_still_needed / partial_lot['Last Price']\n",
    "partial_quanity"
   ]
  },
  {
   "cell_type": "code",
   "execution_count": 19,
   "id": "exceptional-duration",
   "metadata": {},
   "outputs": [
    {
     "data": {
      "text/plain": [
       "-13.535853000003044"
      ]
     },
     "execution_count": 19,
     "metadata": {},
     "output_type": "execute_result"
    }
   ],
   "source": [
    "# Total capital gain or loss\n",
    "current_gain_or_loss + proceeds_still_needed"
   ]
  }
 ],
 "metadata": {
  "kernelspec": {
   "display_name": "Python 3",
   "language": "python",
   "name": "python3"
  },
  "language_info": {
   "codemirror_mode": {
    "name": "ipython",
    "version": 3
   },
   "file_extension": ".py",
   "mimetype": "text/x-python",
   "name": "python",
   "nbconvert_exporter": "python",
   "pygments_lexer": "ipython3",
   "version": "3.9.0"
  }
 },
 "nbformat": 4,
 "nbformat_minor": 5
}
